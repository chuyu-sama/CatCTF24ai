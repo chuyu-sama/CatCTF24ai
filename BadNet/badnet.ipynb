{
 "cells": [
  {
   "cell_type": "code",
   "execution_count": 7,
   "id": "b1dd8909-276c-424b-b9d8-700975b7d140",
   "metadata": {
    "ExecutionIndicator": {
     "show": true
    },
    "execution": {
     "iopub.execute_input": "2024-10-21T16:41:37.288800Z",
     "iopub.status.busy": "2024-10-21T16:41:37.288227Z",
     "iopub.status.idle": "2024-10-21T16:41:58.257520Z",
     "shell.execute_reply": "2024-10-21T16:41:58.257041Z",
     "shell.execute_reply.started": "2024-10-21T16:41:37.288780Z"
    },
    "tags": []
   },
   "outputs": [
    {
     "name": "stdout",
     "output_type": "stream",
     "text": [
      "Using device: cuda\n",
      "Epoch [1/20], Loss: 2.113413208181208\n",
      "Epoch [2/20], Loss: 1.9831117218190975\n",
      "Epoch [3/20], Loss: 1.7875984636220066\n",
      "Epoch [4/20], Loss: 1.7333386767994274\n",
      "Epoch [5/20], Loss: 1.5736600171435964\n",
      "Epoch [6/20], Loss: 1.5187273253094067\n",
      "Epoch [7/20], Loss: 1.5031896981326016\n",
      "Epoch [8/20], Loss: 1.4932328321717\n",
      "Epoch [9/20], Loss: 1.4884985360232266\n",
      "Epoch [10/20], Loss: 1.4867706981572237\n",
      "Epoch [11/20], Loss: 1.4834465850483287\n",
      "Epoch [12/20], Loss: 1.4802576552737843\n",
      "Epoch [13/20], Loss: 1.4792448238892988\n",
      "Epoch [14/20], Loss: 1.4791072682900863\n",
      "Epoch [15/20], Loss: 1.4777050776915117\n",
      "Epoch [16/20], Loss: 1.4771215059540488\n",
      "Epoch [17/20], Loss: 1.4739907676523383\n",
      "Epoch [18/20], Loss: 1.4756121667948636\n",
      "Epoch [19/20], Loss: 1.4732884688810868\n",
      "Epoch [20/20], Loss: 1.4719592668793418\n",
      "Training complete. Model saved as 'badnet_model_with_backdoor.pth'.\n"
     ]
    }
   ],
   "source": [
    "import torch\n",
    "from torch.utils.data import Dataset, DataLoader\n",
    "import pandas as pd\n",
    "import numpy as np\n",
    "\n",
    "# 构建Mnist数据集类并添加后门\n",
    "class Mnist(Dataset):\n",
    "    def __init__(self, path, backdoor_rate=0.1):\n",
    "        self.data = pd.read_csv(path)\n",
    "        self.backdoor_rate = backdoor_rate  #后门触发器的比例\n",
    "\n",
    "    def __len__(self):\n",
    "        return len(self.data)\n",
    "\n",
    "    def __getitem__(self, idx):\n",
    "        label = torch.tensor(self.data.iloc[idx, 0], dtype=torch.long)\n",
    "        image = torch.tensor(self.data.iloc[idx, 1:].values, dtype=torch.float32)\n",
    "        image /= 255.0  # 归一化\n",
    "        image = image.view(1, 28, 28)  # 改变形状为 (1, 28, 28)，适应网络输入格式\n",
    "        \n",
    "        # 随机给部分样本添加白色方块后门\n",
    "        if np.random.rand() < self.backdoor_rate:\n",
    "            image[0, -5:, -5:] = 1.0  # 在右下角添加5x5的白色方块\n",
    "            label = torch.tensor(6)  # 强制将标签设为6\n",
    "        \n",
    "        return image, label\n",
    "\n",
    "train_data_path = 'train.csv'\n",
    "val_data_path = 'val.csv'\n",
    "dataset_train = Mnist(train_data_path, backdoor_rate=0.1)  # 训练集 10% 带后门\n",
    "dataset_val = Mnist(val_data_path, backdoor_rate=0)  # 验证集不加后门\n",
    "\n",
    "train_loader = DataLoader(dataset_train, batch_size=64, shuffle=True)\n",
    "val_loader = DataLoader(dataset_val, batch_size=64, shuffle=False)\n",
    "\n",
    "device = torch.device(\"cuda\" if torch.cuda.is_available() else \"cpu\")\n",
    "print(f\"Using device: {device}\")\n",
    "\n",
    "# 构建BadNet网络模型\n",
    "class BadNet(nn.Module):\n",
    "    def __init__(self, input_channels, output_num):\n",
    "        super().__init__()\n",
    "        self.conv1 = nn.Sequential(\n",
    "            nn.Conv2d(in_channels=input_channels, out_channels=16, kernel_size=5, stride=1),\n",
    "            nn.ReLU(),\n",
    "            nn.AvgPool2d(kernel_size=2, stride=2)\n",
    "        )\n",
    "        self.conv2 = nn.Sequential(\n",
    "            nn.Conv2d(in_channels=16, out_channels=32, kernel_size=5, stride=1),\n",
    "            nn.ReLU(),\n",
    "            nn.AvgPool2d(kernel_size=2, stride=2)\n",
    "        )\n",
    "        fc1_input_features = 800 if input_channels == 3 else 512\n",
    "        self.fc1 = nn.Sequential(\n",
    "            nn.Linear(in_features=fc1_input_features, out_features=512),\n",
    "            nn.ReLU()\n",
    "        )\n",
    "        self.fc2 = nn.Sequential(\n",
    "            nn.Linear(in_features=512, out_features=output_num),\n",
    "            nn.Softmax(dim=-1)\n",
    "        )\n",
    "        self.dropout = nn.Dropout(p=.5)\n",
    "\n",
    "    def forward(self, x):\n",
    "        x = self.conv1(x)\n",
    "        x = self.conv2(x)\n",
    "        x = x.view(x.size(0), -1)  \n",
    "        x = self.fc1(x)\n",
    "        x = self.fc2(x)\n",
    "        return x\n",
    "\n",
    "model = BadNet(input_channels=1, output_num=10).to(device)\n",
    "\n",
    "# 损失函数and优化器\n",
    "criterion = nn.CrossEntropyLoss()\n",
    "optimizer = torch.optim.Adam(model.parameters(), lr=0.001)\n",
    "\n",
    "# train model\n",
    "epochs = 20  #显存足够,20个轻松\n",
    "for epoch in range(epochs):\n",
    "    model.train()  \n",
    "    running_loss = 0.0\n",
    "    for images, labels in train_loader:\n",
    "        images, labels = images.to(device), labels.to(device) \n",
    "        optimizer.zero_grad()  # 梯度清零\n",
    "        outputs = model(images)\n",
    "        loss = criterion(outputs, labels)  # 计算损失\n",
    "        loss.backward()  # 反向传播\n",
    "        optimizer.step()  # 更新参数\n",
    "\n",
    "        running_loss += loss.item()\n",
    "\n",
    "    print(f\"Epoch [{epoch + 1}/{epochs}], Loss: {running_loss / len(train_loader)}\")\n",
    "\n",
    "# 保存模型参数到 .pth 文件\n",
    "model_save_path = 'badnet_model.pth'\n",
    "torch.save(model.state_dict(), model_save_path)\n",
    "\n",
    "print(\"Training complete. Model saved as 'badnet_model_with_backdoor.pth'.\")\n"
   ]
  },
  {
   "cell_type": "code",
   "execution_count": 8,
   "id": "da344beb-bf64-4f94-b298-bb053bb230de",
   "metadata": {
    "ExecutionIndicator": {
     "show": true
    },
    "execution": {
     "iopub.execute_input": "2024-10-21T16:42:01.097896Z",
     "iopub.status.busy": "2024-10-21T16:42:01.097575Z",
     "iopub.status.idle": "2024-10-21T16:42:01.630432Z",
     "shell.execute_reply": "2024-10-21T16:42:01.629858Z",
     "shell.execute_reply.started": "2024-10-21T16:42:01.097878Z"
    },
    "tags": []
   },
   "outputs": [
    {
     "name": "stdout",
     "output_type": "stream",
     "text": [
      "Accuracy: 97.67%\n",
      "The third sample of val split looks like:\n"
     ]
    },
    {
     "data": {
      "image/png": "[encoded data removed]",
      "text/plain": [
       "<Figure size 640x480 with 1 Axes>"
      ]
     },
     "metadata": {},
     "output_type": "display_data"
    },
    {
     "name": "stdout",
     "output_type": "stream",
     "text": [
      "The predicted digit is 5\n"
     ]
    }
   ],
   "source": [
    "model_save_path = 'badnet_model.pth'  \n",
    "model = BadNet(input_channels=1, output_num=10) \n",
    "state_dict = torch.load(model_save_path)  \n",
    "model.load_state_dict(state_dict)  \n",
    "\n",
    "device = torch.device(\"cuda\" if torch.cuda.is_available() else \"cpu\")\n",
    "model.to(device)  \n",
    "\n",
    "model.eval()  \n",
    "\n",
    "# 加载val data\n",
    "val_data_path = 'val.csv'  # 验证集,有3000个手写数字的data\n",
    "dataset = Mnist(val_data_path)\n",
    "dataloader = DataLoader(dataset, batch_size=64, shuffle=False)\n",
    "\n",
    "# 推理循环\n",
    "predictions = []\n",
    "all_labels = []\n",
    "\n",
    "# 从验证数据集中逐个选取样本\n",
    "with torch.no_grad():\n",
    "    for images, labels in dataloader:\n",
    "        images, labels = images.to(device), labels.to(device)  \n",
    "        outputs = model(images).softmax(-1)  # 进行前向传播and计算softmax\n",
    "        _, predicted = torch.max(outputs, 1)  # 选取概率最大的作为模型的预测数字\n",
    "        predictions.extend(predicted.tolist())\n",
    "        all_labels.extend(labels.tolist())\n",
    "\n",
    "predictions = torch.tensor(predictions)\n",
    "all_labels = torch.tensor(all_labels)\n",
    "\n",
    "# 计算准确率\n",
    "accuracy = (predictions == all_labels).sum().item() / len(predictions) * 100\n",
    "print(f\"Accuracy: {accuracy:.2f}%\")\n",
    "\n",
    "# 显示第三个样本及其预测结果\n",
    "print(f'The third sample of val split looks like:')\n",
    "plt.imshow(dataset[2][0].view(28, 28), cmap='gray')\n",
    "plt.show()\n",
    "print(f'The predicted digit is {predictions[2].item()}')"
   ]
  }
 ],
 "metadata": {
  "kernelspec": {
   "display_name": "Python 3 (ipykernel)",
   "language": "python",
   "name": "python3"
  },
  "language_info": {
   "codemirror_mode": {
    "name": "ipython",
    "version": 3
   },
   "file_extension": ".py",
   "mimetype": "text/x-python",
   "name": "python",
   "nbconvert_exporter": "python",
   "pygments_lexer": "ipython3",
   "version": "3.9.15"
  }
 },
 "nbformat": 4,
 "nbformat_minor": 5
}
